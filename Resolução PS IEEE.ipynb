{
 "cells": [
  {
   "cell_type": "markdown",
   "metadata": {},
   "source": [
    "## Tomás Rosário Rosemberg - tomasroro@hotmail.com\n"
   ]
  },
  {
   "cell_type": "code",
   "execution_count": 49,
   "metadata": {},
   "outputs": [],
   "source": [
    "import numpy as np\n",
    "import pandas as pd\n",
    "import matplotlib.pyplot as plt\n",
    "import seaborn as sns\n",
    "%matplotlib inline"
   ]
  },
  {
   "cell_type": "code",
   "execution_count": 2,
   "metadata": {
    "scrolled": true
   },
   "outputs": [
    {
     "data": {
      "text/html": [
       "<div>\n",
       "<style scoped>\n",
       "    .dataframe tbody tr th:only-of-type {\n",
       "        vertical-align: middle;\n",
       "    }\n",
       "\n",
       "    .dataframe tbody tr th {\n",
       "        vertical-align: top;\n",
       "    }\n",
       "\n",
       "    .dataframe thead th {\n",
       "        text-align: right;\n",
       "    }\n",
       "</style>\n",
       "<table border=\"1\" class=\"dataframe\">\n",
       "  <thead>\n",
       "    <tr style=\"text-align: right;\">\n",
       "      <th></th>\n",
       "      <th>Unnamed: 0</th>\n",
       "      <th>Trip ID</th>\n",
       "      <th>Day of The Week</th>\n",
       "      <th>Date</th>\n",
       "      <th>Start Time</th>\n",
       "      <th>Duration</th>\n",
       "      <th>Starting Station ID</th>\n",
       "      <th>Starting Station Latitude</th>\n",
       "      <th>Starting Station Longitude</th>\n",
       "      <th>Ending Station ID</th>\n",
       "      <th>Ending Station Latitude</th>\n",
       "      <th>Ending Station Longitude</th>\n",
       "      <th>Distance [km]</th>\n",
       "      <th>Bike ID</th>\n",
       "      <th>Passholder Type</th>\n",
       "    </tr>\n",
       "  </thead>\n",
       "  <tbody>\n",
       "    <tr>\n",
       "      <th>0</th>\n",
       "      <td>0</td>\n",
       "      <td>1912818.0</td>\n",
       "      <td>quinta-feira</td>\n",
       "      <td>2016-07-07</td>\n",
       "      <td>04:17:00</td>\n",
       "      <td>180</td>\n",
       "      <td>3014</td>\n",
       "      <td>34.056610</td>\n",
       "      <td>-118.23721</td>\n",
       "      <td>3014</td>\n",
       "      <td>34.056610</td>\n",
       "      <td>-118.23721</td>\n",
       "      <td>0.0</td>\n",
       "      <td>6281.0</td>\n",
       "      <td>Monthly Pass</td>\n",
       "    </tr>\n",
       "    <tr>\n",
       "      <th>1</th>\n",
       "      <td>1</td>\n",
       "      <td>1919661.0</td>\n",
       "      <td>quinta-feira</td>\n",
       "      <td>2016-07-07</td>\n",
       "      <td>06:00:00</td>\n",
       "      <td>1980</td>\n",
       "      <td>3014</td>\n",
       "      <td>34.056610</td>\n",
       "      <td>-118.23721</td>\n",
       "      <td>3014</td>\n",
       "      <td>34.056610</td>\n",
       "      <td>-118.23721</td>\n",
       "      <td>0.0</td>\n",
       "      <td>6281.0</td>\n",
       "      <td>Monthly Pass</td>\n",
       "    </tr>\n",
       "    <tr>\n",
       "      <th>2</th>\n",
       "      <td>2</td>\n",
       "      <td>1933383.0</td>\n",
       "      <td>quinta-feira</td>\n",
       "      <td>2016-07-07</td>\n",
       "      <td>10:32:00</td>\n",
       "      <td>300</td>\n",
       "      <td>3016</td>\n",
       "      <td>34.052898</td>\n",
       "      <td>-118.24156</td>\n",
       "      <td>3016</td>\n",
       "      <td>34.052898</td>\n",
       "      <td>-118.24156</td>\n",
       "      <td>0.0</td>\n",
       "      <td>5861.0</td>\n",
       "      <td>Flex Pass</td>\n",
       "    </tr>\n",
       "    <tr>\n",
       "      <th>3</th>\n",
       "      <td>3</td>\n",
       "      <td>1944197.0</td>\n",
       "      <td>quinta-feira</td>\n",
       "      <td>2016-07-07</td>\n",
       "      <td>10:37:00</td>\n",
       "      <td>10860</td>\n",
       "      <td>3016</td>\n",
       "      <td>34.052898</td>\n",
       "      <td>-118.24156</td>\n",
       "      <td>3016</td>\n",
       "      <td>34.052898</td>\n",
       "      <td>-118.24156</td>\n",
       "      <td>0.0</td>\n",
       "      <td>5861.0</td>\n",
       "      <td>Flex Pass</td>\n",
       "    </tr>\n",
       "    <tr>\n",
       "      <th>4</th>\n",
       "      <td>4</td>\n",
       "      <td>1940317.0</td>\n",
       "      <td>quinta-feira</td>\n",
       "      <td>2016-07-07</td>\n",
       "      <td>12:51:00</td>\n",
       "      <td>420</td>\n",
       "      <td>3032</td>\n",
       "      <td>34.049889</td>\n",
       "      <td>-118.25588</td>\n",
       "      <td>3032</td>\n",
       "      <td>34.049889</td>\n",
       "      <td>-118.25588</td>\n",
       "      <td>0.0</td>\n",
       "      <td>6674.0</td>\n",
       "      <td>Walk-up</td>\n",
       "    </tr>\n",
       "  </tbody>\n",
       "</table>\n",
       "</div>"
      ],
      "text/plain": [
       "   Unnamed: 0    Trip ID Day of The Week       Date Start Time  Duration  \\\n",
       "0           0  1912818.0    quinta-feira 2016-07-07   04:17:00       180   \n",
       "1           1  1919661.0    quinta-feira 2016-07-07   06:00:00      1980   \n",
       "2           2  1933383.0    quinta-feira 2016-07-07   10:32:00       300   \n",
       "3           3  1944197.0    quinta-feira 2016-07-07   10:37:00     10860   \n",
       "4           4  1940317.0    quinta-feira 2016-07-07   12:51:00       420   \n",
       "\n",
       "   Starting Station ID  Starting Station Latitude  Starting Station Longitude  \\\n",
       "0                 3014                  34.056610                  -118.23721   \n",
       "1                 3014                  34.056610                  -118.23721   \n",
       "2                 3016                  34.052898                  -118.24156   \n",
       "3                 3016                  34.052898                  -118.24156   \n",
       "4                 3032                  34.049889                  -118.25588   \n",
       "\n",
       "   Ending Station ID  Ending Station Latitude  Ending Station Longitude  \\\n",
       "0               3014                34.056610                -118.23721   \n",
       "1               3014                34.056610                -118.23721   \n",
       "2               3016                34.052898                -118.24156   \n",
       "3               3016                34.052898                -118.24156   \n",
       "4               3032                34.049889                -118.25588   \n",
       "\n",
       "   Distance [km]  Bike ID Passholder Type  \n",
       "0            0.0   6281.0    Monthly Pass  \n",
       "1            0.0   6281.0    Monthly Pass  \n",
       "2            0.0   5861.0       Flex Pass  \n",
       "3            0.0   5861.0       Flex Pass  \n",
       "4            0.0   6674.0         Walk-up  "
      ]
     },
     "execution_count": 2,
     "metadata": {},
     "output_type": "execute_result"
    }
   ],
   "source": [
    "data = pd.read_excel(\"MetroBikeShare.xlsx\");\n",
    "data.head()"
   ]
  },
  {
   "cell_type": "code",
   "execution_count": 56,
   "metadata": {
    "scrolled": true
   },
   "outputs": [
    {
     "name": "stdout",
     "output_type": "stream",
     "text": [
      "\t\t\tDURAÇÃO\n",
      "\n",
      "Média: 1031.9603407688003   Desvio Padrão:  1522.9254291938855\n"
     ]
    }
   ],
   "source": [
    "#RESPOSTA LETRA A\n",
    "print(\"\\t\\t\\tDURAÇÃO\\n\\nMédia:\", data['Duration'].mean(),\"  Desvio Padrão: \",data['Duration'].std())"
   ]
  },
  {
   "cell_type": "code",
   "execution_count": 57,
   "metadata": {},
   "outputs": [
    {
     "name": "stdout",
     "output_type": "stream",
     "text": [
      "\t\t\tDistancia\n",
      "\n",
      "Média: 1.127675873987039   Desvio Padrão:  0.7621499630572516\n"
     ]
    }
   ],
   "source": [
    "#RESPOSTA LETRA B\n",
    "print(\"\\t\\t\\tDistancia\\n\\nMédia:\", data['Distance [km]'].mean(),\"  Desvio Padrão: \",data['Distance [km]'].std())"
   ]
  },
  {
   "cell_type": "code",
   "execution_count": 60,
   "metadata": {
    "scrolled": true
   },
   "outputs": [
    {
     "name": "stdout",
     "output_type": "stream",
     "text": [
      "Velocidade média de corridas não nulas:  1.220365279758052\n"
     ]
    }
   ],
   "source": [
    "#RESPOSTA LETRA C\n",
    "print(\"Velocidade média de corridas não nulas: \",data[data['Distance [km]']!= 0]['Distance [km]'].mean())"
   ]
  },
  {
   "cell_type": "markdown",
   "metadata": {},
   "source": [
    "## Gráfico de Pizza de Resposta da Questão D"
   ]
  },
  {
   "cell_type": "code",
   "execution_count": 61,
   "metadata": {},
   "outputs": [
    {
     "data": {
      "text/plain": [
       "(-1.1112476372268045,\n",
       " 1.100535601772705,\n",
       " -1.1127103976346684,\n",
       " 1.1132274338912624)"
      ]
     },
     "execution_count": 61,
     "metadata": {},
     "output_type": "execute_result"
    },
    {
     "data": {
      "image/png": "[encoded data removed]",
      "text/plain": [
       "<Figure size 432x288 with 1 Axes>"
      ]
     },
     "metadata": {},
     "output_type": "display_data"
    }
   ],
   "source": [
    "labels = data[\"Passholder Type\"].unique()\n",
    "sizes = np.array([])\n",
    "for label in labels:\n",
    "    sizes = np.append(sizes,data[\"Passholder Type\"][data[\"Passholder Type\"] == label].count())\n",
    "fig1, ax1 = plt.subplots()\n",
    "ax1.pie(sizes, labels=labels,shadow = True,autopct='%.0f%%')\n",
    "ax1.axis('equal') "
   ]
  },
  {
   "cell_type": "markdown",
   "metadata": {},
   "source": [
    "## Histogramas para Análise da Questão E"
   ]
  },
  {
   "cell_type": "code",
   "execution_count": 9,
   "metadata": {},
   "outputs": [
    {
     "data": {
      "text/plain": [
       "(array([ 689.,  551.,  411.,  304.,  325.,  433., 1408., 3991., 5463.,\n",
       "        4244., 3188., 4336., 5797., 5397., 4458., 4473., 6218., 7813.,\n",
       "        6945., 4948., 3583., 2489., 1742., 1366.]),\n",
       " array([ 0,  1,  2,  3,  4,  5,  6,  7,  8,  9, 10, 11, 12, 13, 14, 15, 16,\n",
       "        17, 18, 19, 20, 21, 22, 23, 24]),\n",
       " <a list of 24 Patch objects>)"
      ]
     },
     "execution_count": 9,
     "metadata": {},
     "output_type": "execute_result"
    },
    {
     "data": {
      "image/png": "[encoded data removed]",
      "text/plain": [
       "<Figure size 432x288 with 1 Axes>"
      ]
     },
     "metadata": {
      "needs_background": "light"
     },
     "output_type": "display_data"
    }
   ],
   "source": [
    "plt.hist(data[data[\"Passholder Type\"] == \"Monthly Pass\"][\"Start Time\"].apply(lambda x: int(x[0:2])),bins = np.arange(0,25))"
   ]
  },
  {
   "cell_type": "code",
   "execution_count": 10,
   "metadata": {},
   "outputs": [
    {
     "data": {
      "text/plain": [
       "(array([100.,  68.,  29.,  13.,   8.,  17.,  80., 200., 480., 586., 462.,\n",
       "        698., 708., 754., 625., 578., 564., 773., 801., 621., 498., 366.,\n",
       "        263., 124.]),\n",
       " array([ 0,  1,  2,  3,  4,  5,  6,  7,  8,  9, 10, 11, 12, 13, 14, 15, 16,\n",
       "        17, 18, 19, 20, 21, 22, 23, 24]),\n",
       " <a list of 24 Patch objects>)"
      ]
     },
     "execution_count": 10,
     "metadata": {},
     "output_type": "execute_result"
    },
    {
     "data": {
      "image/png": "[encoded data removed]",
      "text/plain": [
       "<Figure size 432x288 with 1 Axes>"
      ]
     },
     "metadata": {
      "needs_background": "light"
     },
     "output_type": "display_data"
    }
   ],
   "source": [
    "plt.hist(data[data[\"Passholder Type\"] == \"Flex Pass\"][\"Start Time\"].apply(lambda x: int(x[0:2])),bins = np.arange(0,25))"
   ]
  },
  {
   "cell_type": "markdown",
   "metadata": {},
   "source": [
    "## Letra E\n",
    "Baseado nos dois gráficos é possível analisar que o comportamento dos dois é bem parecido visto que poucas pessoas ultilizam as bicicletas de madrugada e há um pico de utilização para ambos os planos nas faixas das 17-18h e 12-13h. Porém, é perceptivel a discrepância de quantidade de pessoas em cada plano, com o \"Monthly Pass\" podendo ser 10 vezes maior em alguns horários."
   ]
  },
  {
   "cell_type": "markdown",
   "metadata": {},
   "source": [
    "## Letra F\n",
    "\n",
    "A distribuição varia ao longo do dia muito em função do horário comercial, aparentemente a concentração de usuário aumenta em momentos os quais podem ser considerados típicos de lazer (9-10h da manhã e 17-19h da tarde/noite). Estes horários também podem ser considerados como horários de locomoção ao trabalho, desta forma faz sentido a maior concentração de utilização das bicicletas neles."
   ]
  },
  {
   "cell_type": "markdown",
   "metadata": {},
   "source": [
    "## Gráficos Para Análise da questão G"
   ]
  },
  {
   "cell_type": "code",
   "execution_count": 29,
   "metadata": {},
   "outputs": [
    {
     "data": {
      "text/plain": [
       "<matplotlib.axes._subplots.AxesSubplot at 0x7f55dd370780>"
      ]
     },
     "execution_count": 29,
     "metadata": {},
     "output_type": "execute_result"
    },
    {
     "data": {
      "image/png": "[encoded data removed]",
      "text/plain": [
       "<Figure size 864x432 with 1 Axes>"
      ]
     },
     "metadata": {},
     "output_type": "display_data"
    }
   ],
   "source": [
    "ig , axes = plt.subplots(figsize= (12,6))\n",
    "sns.set_style('darkgrid')\n",
    "horas = np.arange(0,25)\n",
    "media = np.array([])\n",
    "for h in horas:\n",
    "    info = data[\"Start Time\"].apply(lambda x: int(x[0:2]))\n",
    "    media = np.append(media,data[info == h][\"Distance [km]\"].mean())\n",
    "sns.scatterplot(x=horas,y=media)"
   ]
  },
  {
   "cell_type": "markdown",
   "metadata": {},
   "source": [
    "## Letra G\n",
    "\n",
    "Podemos perceber claramente que as maiores médias são entre 06h e 08h o que nos leva a crêr que pode ser o horário onde as pessoas utilizam essas bicicletas para fazer exercícios de alto rendimento, não somente locomoção, pois se fosse somente locomoção a média no horário equivalente a volta do trabalho seria parecida.\n"
   ]
  },
  {
   "cell_type": "markdown",
   "metadata": {},
   "source": [
    "## Código e Gráficos para Análise da Questão H"
   ]
  },
  {
   "cell_type": "code",
   "execution_count": 41,
   "metadata": {},
   "outputs": [],
   "source": [
    "bicicletas = np.array([])\n",
    "for oi in data[\"Bike ID\"].unique():\n",
    "    bicicletas = np.append(bicicletas,data[data[\"Bike ID\"] == oi][\"Distance [km]\"].mean())"
   ]
  },
  {
   "cell_type": "code",
   "execution_count": 42,
   "metadata": {},
   "outputs": [
    {
     "data": {
      "text/plain": [
       "(763,)"
      ]
     },
     "execution_count": 42,
     "metadata": {},
     "output_type": "execute_result"
    }
   ],
   "source": [
    "data[\"Bike ID\"].unique().shape"
   ]
  },
  {
   "cell_type": "code",
   "execution_count": 43,
   "metadata": {},
   "outputs": [
    {
     "data": {
      "text/plain": [
       "<matplotlib.axes._subplots.AxesSubplot at 0x7f55d0a7c2e8>"
      ]
     },
     "execution_count": 43,
     "metadata": {},
     "output_type": "execute_result"
    },
    {
     "data": {
      "image/png": "[encoded data removed]",
      "text/plain": [
       "<Figure size 864x432 with 1 Axes>"
      ]
     },
     "metadata": {},
     "output_type": "display_data"
    }
   ],
   "source": [
    "ig , axes = plt.subplots(figsize= (12,6))\n",
    "sns.set_style('darkgrid')\n",
    "sns.scatterplot(x=data[\"Bike ID\"].unique(),y=bicicletas)"
   ]
  },
  {
   "cell_type": "code",
   "execution_count": 44,
   "metadata": {},
   "outputs": [],
   "source": [
    "df = pd.DataFrame({'bike ID':data[\"Bike ID\"].unique(), 'Media Dist':bicicletas})"
   ]
  },
  {
   "cell_type": "code",
   "execution_count": 46,
   "metadata": {},
   "outputs": [
    {
     "data": {
      "text/html": [
       "<div>\n",
       "<style scoped>\n",
       "    .dataframe tbody tr th:only-of-type {\n",
       "        vertical-align: middle;\n",
       "    }\n",
       "\n",
       "    .dataframe tbody tr th {\n",
       "        vertical-align: top;\n",
       "    }\n",
       "\n",
       "    .dataframe thead th {\n",
       "        text-align: right;\n",
       "    }\n",
       "</style>\n",
       "<table border=\"1\" class=\"dataframe\">\n",
       "  <thead>\n",
       "    <tr style=\"text-align: right;\">\n",
       "      <th></th>\n",
       "      <th>bike ID</th>\n",
       "      <th>Media Dist</th>\n",
       "    </tr>\n",
       "  </thead>\n",
       "  <tbody>\n",
       "    <tr>\n",
       "      <th>732</th>\n",
       "      <td>6098.0</td>\n",
       "      <td>1.486894</td>\n",
       "    </tr>\n",
       "    <tr>\n",
       "      <th>83</th>\n",
       "      <td>6259.0</td>\n",
       "      <td>1.394541</td>\n",
       "    </tr>\n",
       "    <tr>\n",
       "      <th>556</th>\n",
       "      <td>6601.0</td>\n",
       "      <td>1.359154</td>\n",
       "    </tr>\n",
       "    <tr>\n",
       "      <th>53</th>\n",
       "      <td>5759.0</td>\n",
       "      <td>1.351275</td>\n",
       "    </tr>\n",
       "    <tr>\n",
       "      <th>413</th>\n",
       "      <td>5946.0</td>\n",
       "      <td>1.345950</td>\n",
       "    </tr>\n",
       "    <tr>\n",
       "      <th>67</th>\n",
       "      <td>5725.0</td>\n",
       "      <td>1.333422</td>\n",
       "    </tr>\n",
       "    <tr>\n",
       "      <th>207</th>\n",
       "      <td>6319.0</td>\n",
       "      <td>1.331807</td>\n",
       "    </tr>\n",
       "    <tr>\n",
       "      <th>538</th>\n",
       "      <td>6672.0</td>\n",
       "      <td>1.327231</td>\n",
       "    </tr>\n",
       "    <tr>\n",
       "      <th>184</th>\n",
       "      <td>6080.0</td>\n",
       "      <td>1.323322</td>\n",
       "    </tr>\n",
       "    <tr>\n",
       "      <th>527</th>\n",
       "      <td>5723.0</td>\n",
       "      <td>1.320405</td>\n",
       "    </tr>\n",
       "  </tbody>\n",
       "</table>\n",
       "</div>"
      ],
      "text/plain": [
       "     bike ID  Media Dist\n",
       "732   6098.0    1.486894\n",
       "83    6259.0    1.394541\n",
       "556   6601.0    1.359154\n",
       "53    5759.0    1.351275\n",
       "413   5946.0    1.345950\n",
       "67    5725.0    1.333422\n",
       "207   6319.0    1.331807\n",
       "538   6672.0    1.327231\n",
       "184   6080.0    1.323322\n",
       "527   5723.0    1.320405"
      ]
     },
     "execution_count": 46,
     "metadata": {},
     "output_type": "execute_result"
    }
   ],
   "source": [
    "#As Bicicletas com Maiores Gastos\n",
    "df.nlargest(10, \"Media Dist\")"
   ]
  },
  {
   "cell_type": "markdown",
   "metadata": {},
   "source": [
    "## Resposta Questão H\n",
    "Podemos dizer que as bicicletas tem distância média percorrida aproximadamente iguais, com a maioria sendo entra 1,3km e 1km, as 10 bicicletas com provaveis maiores gastos de manutenção se encontram na tabela acima e estas informações podem ser utilizadas para reduzir gastos com manutenção pois pode-ser fazer manutenção preventiva nessas bicicletas que mais rodam com maior frequência."
   ]
  },
  {
   "cell_type": "code",
   "execution_count": null,
   "metadata": {},
   "outputs": [],
   "source": []
  }
 ],
 "metadata": {
  "kernelspec": {
   "display_name": "Python 3",
   "language": "python",
   "name": "python3"
  },
  "language_info": {
   "codemirror_mode": {
    "name": "ipython",
    "version": 3
   },
   "file_extension": ".py",
   "mimetype": "text/x-python",
   "name": "python",
   "nbconvert_exporter": "python",
   "pygments_lexer": "ipython3",
   "version": "3.6.7"
  }
 },
 "nbformat": 4,
 "nbformat_minor": 2
}
